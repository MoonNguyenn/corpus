{
 "cells": [
  {
   "cell_type": "code",
   "execution_count": 1,
   "metadata": {},
   "outputs": [],
   "source": [
    "import csv\n",
    "import sys\n",
    "import codecs\n",
    "import nltk\n",
    "import nltk.collocations\n",
    "import collections\n",
    "import statistics\n",
    "from nltk.metrics.spearman import *\n",
    "from nltk.collocations import *\n",
    "from nltk.stem import WordNetLemmatizer\n",
    "from os import listdir\n",
    "from os.path import splitext\n",
    "from os.path import basename\n",
    "from tabulate import tabulate"
   ]
  },
  {
   "cell_type": "code",
   "execution_count": 2,
   "metadata": {},
   "outputs": [],
   "source": [
    "import pandas as pd"
   ]
  },
  {
   "cell_type": "code",
   "execution_count": 3,
   "metadata": {},
   "outputs": [],
   "source": [
    "import string"
   ]
  },
  {
   "cell_type": "code",
   "execution_count": 4,
   "metadata": {},
   "outputs": [],
   "source": [
    "full_df = pd.read_csv('/Users/nguyenquangminhnguyet/Documents/HKBU Study/Doctoral/System justification/Data/International_news.csv')"
   ]
  },
  {
   "cell_type": "code",
   "execution_count": 5,
   "metadata": {},
   "outputs": [],
   "source": [
    "df = full_df[[\"Content\"]]"
   ]
  },
  {
   "cell_type": "code",
   "execution_count": 6,
   "metadata": {},
   "outputs": [
    {
     "name": "stderr",
     "output_type": "stream",
     "text": [
      "/Users/nguyenquangminhnguyet/opt/anaconda3/lib/python3.7/site-packages/ipykernel_launcher.py:1: SettingWithCopyWarning: \n",
      "A value is trying to be set on a copy of a slice from a DataFrame.\n",
      "Try using .loc[row_indexer,col_indexer] = value instead\n",
      "\n",
      "See the caveats in the documentation: https://pandas.pydata.org/pandas-docs/stable/user_guide/indexing.html#returning-a-view-versus-a-copy\n",
      "  \"\"\"Entry point for launching an IPython kernel.\n"
     ]
    }
   ],
   "source": [
    "df[\"Content\"] = df[\"Content\"].astype(str)"
   ]
  },
  {
   "cell_type": "code",
   "execution_count": 7,
   "metadata": {},
   "outputs": [
    {
     "data": {
      "text/html": [
       "<div>\n",
       "<style scoped>\n",
       "    .dataframe tbody tr th:only-of-type {\n",
       "        vertical-align: middle;\n",
       "    }\n",
       "\n",
       "    .dataframe tbody tr th {\n",
       "        vertical-align: top;\n",
       "    }\n",
       "\n",
       "    .dataframe thead th {\n",
       "        text-align: right;\n",
       "    }\n",
       "</style>\n",
       "<table border=\"1\" class=\"dataframe\">\n",
       "  <thead>\n",
       "    <tr style=\"text-align: right;\">\n",
       "      <th></th>\n",
       "      <th>Date</th>\n",
       "      <th>Content</th>\n",
       "    </tr>\n",
       "  </thead>\n",
       "  <tbody>\n",
       "    <tr>\n",
       "      <th>0</th>\n",
       "      <td>Dec-19</td>\n",
       "      <td>On January 1 of this year, a new cybersecurity...</td>\n",
       "    </tr>\n",
       "    <tr>\n",
       "      <th>1</th>\n",
       "      <td>Aug-19</td>\n",
       "      <td>The new rules, issued in a decree on Wednesday...</td>\n",
       "    </tr>\n",
       "    <tr>\n",
       "      <th>2</th>\n",
       "      <td>Jan-19</td>\n",
       "      <td>On the first day of 2019, Vietnamese dissident...</td>\n",
       "    </tr>\n",
       "    <tr>\n",
       "      <th>3</th>\n",
       "      <td>Jun-18</td>\n",
       "      <td>The huge nationwide protests that rocked Vietn...</td>\n",
       "    </tr>\n",
       "    <tr>\n",
       "      <th>4</th>\n",
       "      <td>Oct-16</td>\n",
       "      <td>Vietnam’s newly enacted cybersecurity law show...</td>\n",
       "    </tr>\n",
       "  </tbody>\n",
       "</table>\n",
       "</div>"
      ],
      "text/plain": [
       "     Date                                            Content\n",
       "0  Dec-19  On January 1 of this year, a new cybersecurity...\n",
       "1  Aug-19  The new rules, issued in a decree on Wednesday...\n",
       "2  Jan-19  On the first day of 2019, Vietnamese dissident...\n",
       "3  Jun-18  The huge nationwide protests that rocked Vietn...\n",
       "4  Oct-16  Vietnam’s newly enacted cybersecurity law show..."
      ]
     },
     "execution_count": 7,
     "metadata": {},
     "output_type": "execute_result"
    }
   ],
   "source": [
    "full_df.head()"
   ]
  },
  {
   "cell_type": "code",
   "execution_count": 8,
   "metadata": {},
   "outputs": [
    {
     "data": {
      "text/html": [
       "<div>\n",
       "<style scoped>\n",
       "    .dataframe tbody tr th:only-of-type {\n",
       "        vertical-align: middle;\n",
       "    }\n",
       "\n",
       "    .dataframe tbody tr th {\n",
       "        vertical-align: top;\n",
       "    }\n",
       "\n",
       "    .dataframe thead th {\n",
       "        text-align: right;\n",
       "    }\n",
       "</style>\n",
       "<table border=\"1\" class=\"dataframe\">\n",
       "  <thead>\n",
       "    <tr style=\"text-align: right;\">\n",
       "      <th></th>\n",
       "      <th>Content</th>\n",
       "      <th>Content_wo_punct</th>\n",
       "    </tr>\n",
       "  </thead>\n",
       "  <tbody>\n",
       "    <tr>\n",
       "      <th>0</th>\n",
       "      <td>On January 1 of this year, a new cybersecurity...</td>\n",
       "      <td>On January 1 of this year a new cybersecurity ...</td>\n",
       "    </tr>\n",
       "    <tr>\n",
       "      <th>1</th>\n",
       "      <td>The new rules, issued in a decree on Wednesday...</td>\n",
       "      <td>The new rules issued in a decree on Wednesday ...</td>\n",
       "    </tr>\n",
       "    <tr>\n",
       "      <th>2</th>\n",
       "      <td>On the first day of 2019, Vietnamese dissident...</td>\n",
       "      <td>On the first day of 2019 Vietnamese dissidents...</td>\n",
       "    </tr>\n",
       "    <tr>\n",
       "      <th>3</th>\n",
       "      <td>The huge nationwide protests that rocked Vietn...</td>\n",
       "      <td>The huge nationwide protests that rocked Vietn...</td>\n",
       "    </tr>\n",
       "    <tr>\n",
       "      <th>4</th>\n",
       "      <td>Vietnam’s newly enacted cybersecurity law show...</td>\n",
       "      <td>Vietnam’s newly enacted cybersecurity law show...</td>\n",
       "    </tr>\n",
       "  </tbody>\n",
       "</table>\n",
       "</div>"
      ],
      "text/plain": [
       "                                             Content  \\\n",
       "0  On January 1 of this year, a new cybersecurity...   \n",
       "1  The new rules, issued in a decree on Wednesday...   \n",
       "2  On the first day of 2019, Vietnamese dissident...   \n",
       "3  The huge nationwide protests that rocked Vietn...   \n",
       "4  Vietnam’s newly enacted cybersecurity law show...   \n",
       "\n",
       "                                    Content_wo_punct  \n",
       "0  On January 1 of this year a new cybersecurity ...  \n",
       "1  The new rules issued in a decree on Wednesday ...  \n",
       "2  On the first day of 2019 Vietnamese dissidents...  \n",
       "3  The huge nationwide protests that rocked Vietn...  \n",
       "4  Vietnam’s newly enacted cybersecurity law show...  "
      ]
     },
     "execution_count": 8,
     "metadata": {},
     "output_type": "execute_result"
    }
   ],
   "source": [
    "PUNCT_TO_REMOVE = string.punctuation\n",
    "def remove_punctuation(Content):\n",
    "    \"\"\"custom function to remove the punctuation\"\"\"\n",
    "    return Content.translate(str.maketrans('', '', PUNCT_TO_REMOVE))\n",
    "\n",
    "df[\"Content_wo_punct\"] = df[\"Content\"].apply(lambda Content: remove_punctuation(Content))\n",
    "df.head()"
   ]
  },
  {
   "cell_type": "code",
   "execution_count": 9,
   "metadata": {},
   "outputs": [],
   "source": [
    "from nltk.corpus import stopwords\n",
    "stop_words = stopwords.words('english')\n",
    "stop_words.extend(['from', 'subject', 're', 'edu', 'use', 'not','the', 'The','really','sometimes', 'go', 'since', 'they', 'its', 'the', 'said', 'many', 'also', 'according', 'would'])"
   ]
  },
  {
   "cell_type": "code",
   "execution_count": 10,
   "metadata": {},
   "outputs": [
    {
     "data": {
      "text/html": [
       "<div>\n",
       "<style scoped>\n",
       "    .dataframe tbody tr th:only-of-type {\n",
       "        vertical-align: middle;\n",
       "    }\n",
       "\n",
       "    .dataframe tbody tr th {\n",
       "        vertical-align: top;\n",
       "    }\n",
       "\n",
       "    .dataframe thead th {\n",
       "        text-align: right;\n",
       "    }\n",
       "</style>\n",
       "<table border=\"1\" class=\"dataframe\">\n",
       "  <thead>\n",
       "    <tr style=\"text-align: right;\">\n",
       "      <th></th>\n",
       "      <th>Content</th>\n",
       "      <th>Content_wo_punct</th>\n",
       "      <th>Content_wo_stop</th>\n",
       "    </tr>\n",
       "  </thead>\n",
       "  <tbody>\n",
       "    <tr>\n",
       "      <th>0</th>\n",
       "      <td>On January 1 of this year, a new cybersecurity...</td>\n",
       "      <td>On January 1 of this year a new cybersecurity ...</td>\n",
       "      <td>On January 1 year new cybersecurity law entere...</td>\n",
       "    </tr>\n",
       "    <tr>\n",
       "      <th>1</th>\n",
       "      <td>The new rules, issued in a decree on Wednesday...</td>\n",
       "      <td>The new rules issued in a decree on Wednesday ...</td>\n",
       "      <td>new rules issued decree Wednesday apply social...</td>\n",
       "    </tr>\n",
       "    <tr>\n",
       "      <th>2</th>\n",
       "      <td>On the first day of 2019, Vietnamese dissident...</td>\n",
       "      <td>On the first day of 2019 Vietnamese dissidents...</td>\n",
       "      <td>On first day 2019 Vietnamese dissidents human ...</td>\n",
       "    </tr>\n",
       "    <tr>\n",
       "      <th>3</th>\n",
       "      <td>The huge nationwide protests that rocked Vietn...</td>\n",
       "      <td>The huge nationwide protests that rocked Vietn...</td>\n",
       "      <td>huge nationwide protests rocked Vietnam last w...</td>\n",
       "    </tr>\n",
       "    <tr>\n",
       "      <th>4</th>\n",
       "      <td>Vietnam’s newly enacted cybersecurity law show...</td>\n",
       "      <td>Vietnam’s newly enacted cybersecurity law show...</td>\n",
       "      <td>Vietnam’s newly enacted cybersecurity law show...</td>\n",
       "    </tr>\n",
       "  </tbody>\n",
       "</table>\n",
       "</div>"
      ],
      "text/plain": [
       "                                             Content  \\\n",
       "0  On January 1 of this year, a new cybersecurity...   \n",
       "1  The new rules, issued in a decree on Wednesday...   \n",
       "2  On the first day of 2019, Vietnamese dissident...   \n",
       "3  The huge nationwide protests that rocked Vietn...   \n",
       "4  Vietnam’s newly enacted cybersecurity law show...   \n",
       "\n",
       "                                    Content_wo_punct  \\\n",
       "0  On January 1 of this year a new cybersecurity ...   \n",
       "1  The new rules issued in a decree on Wednesday ...   \n",
       "2  On the first day of 2019 Vietnamese dissidents...   \n",
       "3  The huge nationwide protests that rocked Vietn...   \n",
       "4  Vietnam’s newly enacted cybersecurity law show...   \n",
       "\n",
       "                                     Content_wo_stop  \n",
       "0  On January 1 year new cybersecurity law entere...  \n",
       "1  new rules issued decree Wednesday apply social...  \n",
       "2  On first day 2019 Vietnamese dissidents human ...  \n",
       "3  huge nationwide protests rocked Vietnam last w...  \n",
       "4  Vietnam’s newly enacted cybersecurity law show...  "
      ]
     },
     "execution_count": 10,
     "metadata": {},
     "output_type": "execute_result"
    }
   ],
   "source": [
    "def remove_stopwords(Content):\n",
    "    \"\"\"custom function to remove the stopwords\"\"\"\n",
    "    return \" \".join([word for word in str(Content).split() if word not in stop_words])\n",
    "\n",
    "df[\"Content_wo_stop\"] = df[\"Content_wo_punct\"].apply(lambda Content: remove_stopwords(Content))\n",
    "df.head()"
   ]
  },
  {
   "cell_type": "code",
   "execution_count": 11,
   "metadata": {},
   "outputs": [],
   "source": [
    "data = df.Content_wo_stop.values.tolist()"
   ]
  },
  {
   "cell_type": "code",
   "execution_count": 12,
   "metadata": {},
   "outputs": [],
   "source": [
    "new_text = \" \".join(map(str,data))"
   ]
  },
  {
   "cell_type": "code",
   "execution_count": 13,
   "metadata": {},
   "outputs": [],
   "source": [
    "words = [word for word in new_text.split() if word.lower() not in stop_words]"
   ]
  },
  {
   "cell_type": "code",
   "execution_count": 14,
   "metadata": {},
   "outputs": [],
   "source": [
    "clean = [w.lower() for w in words if w.isalpha()]"
   ]
  },
  {
   "cell_type": "code",
   "execution_count": 15,
   "metadata": {},
   "outputs": [],
   "source": [
    "text = [w for w in clean if w not in stop_words]"
   ]
  },
  {
   "cell_type": "code",
   "execution_count": 16,
   "metadata": {},
   "outputs": [],
   "source": [
    "# creates a variable for the lemmatizing function\n",
    "wnl = WordNetLemmatizer()"
   ]
  },
  {
   "cell_type": "code",
   "execution_count": 17,
   "metadata": {},
   "outputs": [
    {
     "name": "stderr",
     "output_type": "stream",
     "text": [
      "[nltk_data] Downloading package omw-1.4 to\n",
      "[nltk_data]     /Users/nguyenquangminhnguyet/nltk_data...\n",
      "[nltk_data]   Package omw-1.4 is already up-to-date!\n"
     ]
    },
    {
     "data": {
      "text/plain": [
       "True"
      ]
     },
     "execution_count": 17,
     "metadata": {},
     "output_type": "execute_result"
    }
   ],
   "source": [
    "nltk.download('omw-1.4')"
   ]
  },
  {
   "cell_type": "code",
   "execution_count": 18,
   "metadata": {},
   "outputs": [],
   "source": [
    "# lemmatizes all of the verbs\n",
    "lemm = []\n",
    "for word in text:\n",
    "    lemm.append(wnl.lemmatize(word, 'v'))"
   ]
  },
  {
   "cell_type": "code",
   "execution_count": 19,
   "metadata": {},
   "outputs": [],
   "source": [
    "# lemmatizes all of the nouns \n",
    "lems = []\n",
    "for word in lemm:\n",
    "    lems.append(wnl.lemmatize(word, 'n'))"
   ]
  },
  {
   "cell_type": "code",
   "execution_count": 20,
   "metadata": {},
   "outputs": [
    {
     "name": "stdout",
     "output_type": "stream",
     "text": [
      "Number of words: 106137\n"
     ]
    }
   ],
   "source": [
    "print(\"Number of words:\", len(lems))"
   ]
  },
  {
   "cell_type": "code",
   "execution_count": 96,
   "metadata": {},
   "outputs": [
    {
     "name": "stdout",
     "output_type": "stream",
     "text": [
      "cyber: 260\n"
     ]
    }
   ],
   "source": [
    "print('cyber:', text.count('cyber'))"
   ]
  },
  {
   "cell_type": "code",
   "execution_count": 97,
   "metadata": {},
   "outputs": [
    {
     "name": "stdout",
     "output_type": "stream",
     "text": [
      "human right; social medium; cybersecurity law; national assembly;\n",
      "communist party; service provider; public security; chi minh; ministry\n",
      "public; facebook google; freedom expression; last year; amnesty\n",
      "international; personal data; minh city; prime minister; take effect;\n",
      "information communication; new law; social network; store data; cyber\n",
      "security; economic zone; vietnamese government; representative office;\n",
      "data localization; free speech; new cybersecurity; national security;\n",
      "southeast asian; user data; draft decree; unite state; remove content;\n",
      "penal code; digital economy; within hour; right watch; tech company;\n",
      "foreign investment; effect january; come effect; internet coalition;\n",
      "socialist republic; local office; medium platform; prisoner\n",
      "conscience; chamber commerce; southeast asia; transpacific partnership\n"
     ]
    }
   ],
   "source": [
    "# prints the 10 most common bigrams\n",
    "colText = nltk.Text(lems)\n",
    "colText.collocations(50)\n"
   ]
  },
  {
   "cell_type": "code",
   "execution_count": 98,
   "metadata": {},
   "outputs": [
    {
     "data": {
      "text/plain": [
       "[('january', 'year'),\n",
       " ('year', 'new'),\n",
       " ('new', 'cybersecurity'),\n",
       " ('cybersecurity', 'law'),\n",
       " ('law', 'enter'),\n",
       " ('enter', 'effect'),\n",
       " ('effect', 'vietnam'),\n",
       " ('vietnam', 'passage'),\n",
       " ('passage', 'vietnamese'),\n",
       " ('vietnamese', 'national'),\n",
       " ('national', 'assembly'),\n",
       " ('assembly', 'june'),\n",
       " ('june', 'law'),\n",
       " ('law', 'original'),\n",
       " ('original', 'unofficial'),\n",
       " ('unofficial', 'translation'),\n",
       " ('translation', 'number'),\n",
       " ('number', 'concern'),\n",
       " ('concern', 'element'),\n",
       " ('element', 'include'),\n",
       " ('include', 'grant'),\n",
       " ('grant', 'government'),\n",
       " ('government', 'relatively'),\n",
       " ('relatively', 'unchecked'),\n",
       " ('unchecked', 'authority'),\n",
       " ('authority', 'delete'),\n",
       " ('delete', 'block'),\n",
       " ('block', 'access'),\n",
       " ('access', 'data'),\n",
       " ('data', 'infringe')]"
      ]
     },
     "execution_count": 98,
     "metadata": {},
     "output_type": "execute_result"
    }
   ],
   "source": [
    "# creates a list of bigrams (ngrams of 2), printing the first 5\n",
    "colBigrams = list(nltk.ngrams(colText, 2)) \n",
    "colBigrams[:30]"
   ]
  },
  {
   "cell_type": "code",
   "execution_count": 99,
   "metadata": {},
   "outputs": [
    {
     "name": "stdout",
     "output_type": "stream",
     "text": [
      "Number of words: 106137\n",
      "Number of bigrams: 106136\n"
     ]
    }
   ],
   "source": [
    "print(\"Number of words:\", len(lems))\n",
    "print(\"Number of bigrams:\", len(colBigrams))"
   ]
  },
  {
   "cell_type": "code",
   "execution_count": 100,
   "metadata": {},
   "outputs": [],
   "source": [
    "# loads bigram code from NLTK\n",
    "bigram_measures = nltk.collocations.BigramAssocMeasures()"
   ]
  },
  {
   "cell_type": "code",
   "execution_count": 101,
   "metadata": {},
   "outputs": [],
   "source": [
    "# ngrams with 'privacy' as a member\n",
    "security_filter = lambda *w: 'cyber' not in w"
   ]
  },
  {
   "cell_type": "code",
   "execution_count": 102,
   "metadata": {},
   "outputs": [],
   "source": [
    "# bigrams\n",
    "finder = BigramCollocationFinder.from_words(lems, window_size = 2)"
   ]
  },
  {
   "cell_type": "code",
   "execution_count": 103,
   "metadata": {},
   "outputs": [],
   "source": [
    "# only bigrams that appear 4+ times\n",
    "finder.apply_freq_filter(4)"
   ]
  },
  {
   "cell_type": "code",
   "execution_count": 104,
   "metadata": {},
   "outputs": [],
   "source": [
    "# only bigrams that contain 'privacy'\n",
    "finder.apply_ngram_filter(security_filter)"
   ]
  },
  {
   "cell_type": "code",
   "execution_count": 105,
   "metadata": {},
   "outputs": [
    {
     "data": {
      "image/png": "[encoded data removed]",
      "text/plain": [
       "<Figure size 432x288 with 1 Axes>"
      ]
     },
     "metadata": {
      "needs_background": "light"
     },
     "output_type": "display_data"
    },
    {
     "data": {
      "text/plain": [
       "<AxesSubplot:xlabel='Samples', ylabel='Counts'>"
      ]
     },
     "execution_count": 105,
     "metadata": {},
     "output_type": "execute_result"
    }
   ],
   "source": [
    "%matplotlib inline\n",
    "fd = nltk.FreqDist(colText)\n",
    "fd.plot(30)"
   ]
  },
  {
   "cell_type": "code",
   "execution_count": 106,
   "metadata": {},
   "outputs": [],
   "source": [
    "fdnums = []\n",
    "for sample in fd:\n",
    "    fdnums.append(fd[sample])\n",
    "numlist = list(map(int, fdnums))"
   ]
  },
  {
   "cell_type": "code",
   "execution_count": 107,
   "metadata": {},
   "outputs": [
    {
     "name": "stdout",
     "output_type": "stream",
     "text": [
      "Total of unique words: 6964\n",
      "Total of words that appear only once: 2495\n",
      "Percentage of words that appear only once: 35.83%\n"
     ]
    }
   ],
   "source": [
    "print(\"Total of unique words:\", len(numlist))\n",
    "print(\"Total of words that appear only once:\", len(fd.hapaxes()))\n",
    "print(\"Percentage of words that appear only once:\",'{:.2%}'.format(len(fd.hapaxes())/len(numlist)))"
   ]
  },
  {
   "cell_type": "code",
   "execution_count": 108,
   "metadata": {},
   "outputs": [
    {
     "name": "stdout",
     "output_type": "stream",
     "text": [
      "Mean: 15.24\n",
      "Standard Deviation: 60.70\n",
      "Variance: 3684.98\n"
     ]
    }
   ],
   "source": [
    "datamean = statistics.mean(numlist)\n",
    "print(\"Mean:\", '{:.2f}'.format(statistics.mean(numlist)))\n",
    "print(\"Standard Deviation:\", '{:.2f}'.format(statistics.pstdev(numlist,datamean)))\n",
    "print(\"Variance:\", '{:.2f}'.format(statistics.pvariance(numlist,datamean)))"
   ]
  },
  {
   "cell_type": "code",
   "execution_count": 88,
   "metadata": {},
   "outputs": [],
   "source": [
    "# filter results based on statistical test\n",
    "\n",
    "# calulates the raw frequency as an actual number and percentage of total words\n",
    "act = finder.ngram_fd.items()\n",
    "raw = finder.score_ngrams(bigram_measures.raw_freq)\n",
    "# student's - t score\n",
    "tm = finder.score_ngrams(bigram_measures.student_t)\n",
    "# pointwise mutual information score\n",
    "pm = finder.score_ngrams(bigram_measures.pmi)\n",
    "# chi-square score\n",
    "ch = finder.score_ngrams(bigram_measures.chi_sq)\n",
    "# log-likelihood ratio\n",
    "log = finder.score_ngrams(bigram_measures.likelihood_ratio)"
   ]
  },
  {
   "cell_type": "code",
   "execution_count": 89,
   "metadata": {},
   "outputs": [
    {
     "name": "stdout",
     "output_type": "stream",
     "text": [
      "[(('cybersecurity', 'law'), 2722.8684300374634), (('new', 'cybersecurity'), 578.8541042238153), (('law', 'cybersecurity'), 159.7140040424875), (('cybersecurity', 'bill'), 149.46165536316636), (('controversial', 'cybersecurity'), 87.30416706789812), (('culminate', 'cybersecurity'), 85.59890607003854), (('cybersecurity', 'taskforce'), 67.44176745998887), (('contentious', 'cybersecurity'), 59.84312124102991), (('cybersecurity', 'incident'), 57.737458106584675), (('cybersecurity', 'emergency'), 55.21876596636632), (('cybersecurity', 'coordination'), 42.77061104534157), (('draconian', 'cybersecurity'), 42.64618383128108), (('specialize', 'cybersecurity'), 40.16282836359798), (('zone', 'cybersecurity'), 39.27833817493236), (('cybersecurity', 'protection'), 32.81504897929385), (('violation', 'cybersecurity'), 32.81504897929385), (('tighten', 'cybersecurity'), 31.0777197682972), (('cybersecurity', 'legislation'), 30.799476946647726), (('obstacle', 'cybersecurity'), 30.05789002926857), (('earlier', 'cybersecurity'), 29.482422080379916), (('meet', 'cybersecurity'), 28.399635862318917), (('vietnam', 'cybersecurity'), 25.21367579956393), (('propose', 'cybersecurity'), 25.071731021888876), (('pas', 'cybersecurity'), 25.038195929474256), (('cybersecurity', 'facilitate'), 23.465344860714676), (('implementation', 'cybersecurity'), 23.091364619357357), (('cybersecurity', 'vulnerability'), 23.044985971378054), (('improve', 'cybersecurity'), 22.257782191707115), (('cybersecurity', 'department'), 21.35226253383319), (('cybersecurity', 'bbc'), 20.724380922155827), (('oppose', 'cybersecurity'), 20.68695070983359), (('cybersecurity', 'stipulate'), 20.18512605612109), (('cybersecurity', 'prevention'), 19.682154579719302), (('cybersecurity', 'audit'), 19.21099378783424), (('cybersecurity', 'threat'), 16.806242889057973), (('cybersecurity', 'expert'), 15.818372651939018), (('similar', 'cybersecurity'), 14.954687091333899), (('implement', 'cybersecurity'), 14.484155957260155), (('cybersecurity', 'regulation'), 13.924456128786556), (('cybersecurity', 'digital'), 13.17484407956337), (('cybersecurity', 'need'), 12.724425547066778), (('introduce', 'cybersecurity'), 12.723947125010318), (('consequence', 'cybersecurity'), 12.025847367301266), (('cybersecurity', 'vietnam'), 11.976743329681433), (('comply', 'cybersecurity'), 11.123299052467267), (('department', 'cybersecurity'), 11.100004314700964), (('violate', 'cybersecurity'), 11.059946907093929), (('increase', 'cybersecurity'), 10.799426951563017), (('respond', 'cybersecurity'), 10.630819869521483), (('cybersecurity', 'measure'), 10.537129837854962), (('cybersecurity', 'rule'), 9.66377551863882), (('charge', 'cybersecurity'), 9.580166188045144), (('journalist', 'cybersecurity'), 9.340321566818494), (('cybersecurity', 'firm'), 9.144395293918672), (('cybersecurity', 'policy'), 8.457650247791742), (('approve', 'cybersecurity'), 8.44497413195825), (('threat', 'cybersecurity'), 8.261182397856874), (('protest', 'cybersecurity'), 8.153393880746217), (('bill', 'cybersecurity'), 6.774592178513296), (('global', 'cybersecurity'), 6.272214392836956), (('provider', 'cybersecurity'), 4.6676233569929995), (('censorship', 'cybersecurity'), 4.0853417584084015), (('state', 'cybersecurity'), 3.8892625588439973), (('government', 'cybersecurity'), 3.354137785585385), (('cybersecurity', 'give'), 3.2888759614976966), (('cybersecurity', 'issue'), 2.008418481365063), (('cybersecurity', 'june'), 1.7247732402242946), (('vietnamese', 'cybersecurity'), 1.3088981379904752), (('cybersecurity', 'government'), 1.0283587417235696), (('cybersecurity', 'take'), 0.893759469000964), (('country', 'cybersecurity'), 0.8226070241817798), (('national', 'cybersecurity'), 0.751601338530707), (('cybersecurity', 'country'), 0.17179317299278773)]\n"
     ]
    }
   ],
   "source": [
    "print(log)"
   ]
  },
  {
   "cell_type": "code",
   "execution_count": 109,
   "metadata": {},
   "outputs": [
    {
     "name": "stdout",
     "output_type": "stream",
     "text": [
      "Collocate                            Log-Likelihood\n",
      "-----------------------------------  ----------------\n",
      "('cybersecurity', 'law')             2722.868\n",
      "('new', 'cybersecurity')             578.854\n",
      "('law', 'cybersecurity')             159.714\n",
      "('cybersecurity', 'bill')            149.462\n",
      "('controversial', 'cybersecurity')   87.304\n",
      "('culminate', 'cybersecurity')       85.599\n",
      "('cybersecurity', 'taskforce')       67.442\n",
      "('contentious', 'cybersecurity')     59.843\n",
      "('cybersecurity', 'incident')        57.737\n",
      "('cybersecurity', 'emergency')       55.219\n",
      "('cybersecurity', 'coordination')    42.771\n",
      "('draconian', 'cybersecurity')       42.646\n",
      "('specialize', 'cybersecurity')      40.163\n",
      "('zone', 'cybersecurity')            39.278\n",
      "('cybersecurity', 'protection')      32.815\n",
      "('violation', 'cybersecurity')       32.815\n",
      "('tighten', 'cybersecurity')         31.078\n",
      "('cybersecurity', 'legislation')     30.799\n",
      "('obstacle', 'cybersecurity')        30.058\n",
      "('earlier', 'cybersecurity')         29.482\n",
      "('meet', 'cybersecurity')            28.400\n",
      "('vietnam', 'cybersecurity')         25.214\n",
      "('propose', 'cybersecurity')         25.072\n",
      "('pas', 'cybersecurity')             25.038\n",
      "('cybersecurity', 'facilitate')      23.465\n",
      "('implementation', 'cybersecurity')  23.091\n",
      "('cybersecurity', 'vulnerability')   23.045\n",
      "('improve', 'cybersecurity')         22.258\n",
      "('cybersecurity', 'department')      21.352\n",
      "('cybersecurity', 'bbc')             20.724\n",
      "('oppose', 'cybersecurity')          20.687\n",
      "('cybersecurity', 'stipulate')       20.185\n",
      "('cybersecurity', 'prevention')      19.682\n",
      "('cybersecurity', 'audit')           19.211\n",
      "('cybersecurity', 'threat')          16.806\n",
      "('cybersecurity', 'expert')          15.818\n",
      "('similar', 'cybersecurity')         14.955\n",
      "('implement', 'cybersecurity')       14.484\n",
      "('cybersecurity', 'regulation')      13.924\n",
      "('cybersecurity', 'digital')         13.175\n",
      "('cybersecurity', 'need')            12.724\n",
      "('introduce', 'cybersecurity')       12.724\n",
      "('consequence', 'cybersecurity')     12.026\n",
      "('cybersecurity', 'vietnam')         11.977\n",
      "('comply', 'cybersecurity')          11.123\n",
      "('department', 'cybersecurity')      11.100\n",
      "('violate', 'cybersecurity')         11.060\n",
      "('increase', 'cybersecurity')        10.799\n",
      "('respond', 'cybersecurity')         10.631\n",
      "('cybersecurity', 'measure')         10.537\n",
      "('cybersecurity', 'rule')            9.664\n",
      "('charge', 'cybersecurity')          9.580\n",
      "('journalist', 'cybersecurity')      9.340\n",
      "('cybersecurity', 'firm')            9.144\n",
      "('cybersecurity', 'policy')          8.458\n",
      "('approve', 'cybersecurity')         8.445\n",
      "('threat', 'cybersecurity')          8.261\n",
      "('protest', 'cybersecurity')         8.153\n",
      "('bill', 'cybersecurity')            6.775\n",
      "('global', 'cybersecurity')          6.272\n",
      "('provider', 'cybersecurity')        4.668\n",
      "('censorship', 'cybersecurity')      4.085\n",
      "('state', 'cybersecurity')           3.889\n",
      "('government', 'cybersecurity')      3.354\n",
      "('cybersecurity', 'give')            3.289\n",
      "('cybersecurity', 'issue')           2.008\n",
      "('cybersecurity', 'june')            1.725\n",
      "('vietnamese', 'cybersecurity')      1.309\n",
      "('cybersecurity', 'government')      1.028\n",
      "('cybersecurity', 'take')            0.894\n",
      "('country', 'cybersecurity')         0.823\n",
      "('national', 'cybersecurity')        0.752\n",
      "('cybersecurity', 'country')         0.172\n"
     ]
    }
   ],
   "source": [
    "print(tabulate(log, headers = [\"Collocate\", \"Log-Likelihood\"], floatfmt=\".3f\", numalign=\"left\"))"
   ]
  },
  {
   "cell_type": "code",
   "execution_count": 110,
   "metadata": {},
   "outputs": [],
   "source": [
    "# group bigrams by first and second word in bigram                                        \n",
    "prefix_keys = collections.defaultdict(list)\n",
    "for key, a in act:\n",
    "    # first word\n",
    "    prefix_keys[key[0]].append((key[1], a))\n",
    "     # second word\n",
    "    prefix_keys[key[1]].append((key[0], a))\n",
    "    \n",
    "# sort keyed bigrams by strongest association.                                  \n",
    "for key in prefix_keys:\n",
    "    prefix_keys[key].sort(key = lambda x: -x[1])\n",
    "\n",
    "# remove the word privacy and display the first 50 results\n",
    "actkeys = prefix_keys['cyber'][:30]\n",
    "\n",
    "##################################################################\n",
    "#### sorts list of RAW (expressed as percentage) frequencies #####\n",
    "##################################################################\n",
    "\n",
    "# group bigrams by first and second word in bigram                                         \n",
    "prefix_keys = collections.defaultdict(list)\n",
    "for key, r in raw:\n",
    "    # first word\n",
    "    prefix_keys[key[0]].append((key[1], r))\n",
    "    # second word\n",
    "    prefix_keys[key[1]].append((key[0], r))\n",
    "    \n",
    "# sort keyed bigrams by strongest association.                                  \n",
    "for key in prefix_keys:\n",
    "    prefix_keys[key].sort(key = lambda x: -x[1])\n",
    "\n",
    "rawkeys = prefix_keys['cyber'][:30]\n",
    "\n",
    "##################################################################\n",
    "############### sorts list of log-likelihood scores ##############\n",
    "##################################################################\n",
    "\n",
    "# group bigrams by first and second word in bigram                                        \n",
    "prefix_keys = collections.defaultdict(list)\n",
    "for key, l in log:\n",
    "    # first word\n",
    "    prefix_keys[key[0]].append((key[1], l))\n",
    "    # second word\n",
    "    prefix_keys[key[1]].append((key[0], l))\n",
    "    \n",
    "# sort bigrams by strongest association                                  \n",
    "for key in prefix_keys:\n",
    "    prefix_keys[key].sort(key = lambda x: -x[1])\n",
    "\n",
    "logkeys = prefix_keys['cyber'][:35]"
   ]
  },
  {
   "cell_type": "code",
   "execution_count": 111,
   "metadata": {},
   "outputs": [
    {
     "name": "stdout",
     "output_type": "stream",
     "text": [
      "Collocate    Log-Likelihood\n",
      "-----------  ----------------\n"
     ]
    }
   ],
   "source": [
    "from tabulate import tabulate\n",
    "print(tabulate(logkeys, headers = [\"Collocate\", \"Log-Likelihood\"], floatfmt=\".3f\", numalign=\"left\"))"
   ]
  },
  {
   "cell_type": "code",
   "execution_count": null,
   "metadata": {},
   "outputs": [],
   "source": []
  },
  {
   "cell_type": "code",
   "execution_count": null,
   "metadata": {},
   "outputs": [],
   "source": []
  }
 ],
 "metadata": {
  "kernelspec": {
   "display_name": "Python 3",
   "language": "python",
   "name": "python3"
  },
  "language_info": {
   "codemirror_mode": {
    "name": "ipython",
    "version": 3
   },
   "file_extension": ".py",
   "mimetype": "text/x-python",
   "name": "python",
   "nbconvert_exporter": "python",
   "pygments_lexer": "ipython3",
   "version": "3.7.4"
  }
 },
 "nbformat": 4,
 "nbformat_minor": 2
}
